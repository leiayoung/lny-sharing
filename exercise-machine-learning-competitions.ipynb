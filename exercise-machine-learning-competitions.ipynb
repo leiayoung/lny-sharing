{
 "cells": [
  {
   "cell_type": "markdown",
   "id": "9411302f",
   "metadata": {
    "papermill": {
     "duration": 0.008604,
     "end_time": "2022-11-16T18:34:09.972320",
     "exception": false,
     "start_time": "2022-11-16T18:34:09.963716",
     "status": "completed"
    },
    "tags": []
   },
   "source": [
    "**This notebook is an exercise in the [Introduction to Machine Learning](https://www.kaggle.com/learn/intro-to-machine-learning) course.  You can reference the tutorial at [this link](https://www.kaggle.com/alexisbcook/machine-learning-competitions).**\n",
    "\n",
    "---\n"
   ]
  },
  {
   "cell_type": "markdown",
   "id": "762a7c44",
   "metadata": {
    "papermill": {
     "duration": 0.004093,
     "end_time": "2022-11-16T18:34:09.981633",
     "exception": false,
     "start_time": "2022-11-16T18:34:09.977540",
     "status": "completed"
    },
    "tags": []
   },
   "source": [
    "# Introduction\n",
    "\n",
    "This exercise is from the Kaggle Machine Learning short course. I was guided through the course to build a model then use my own methods to select variables. On my own initiative I included categorical variables, and variables with missing values. I then used kaggle tools outside of the course to figure out how to hotcode the categorical variables and impute the missing values.\n",
    "\n",
    "Begin by running the code cell below to set up code checking and the filepaths for the dataset."
   ]
  },
  {
   "cell_type": "code",
   "execution_count": 1,
   "id": "12a2fdf5",
   "metadata": {
    "execution": {
     "iopub.execute_input": "2022-11-16T18:34:09.994885Z",
     "iopub.status.busy": "2022-11-16T18:34:09.993786Z",
     "iopub.status.idle": "2022-11-16T18:34:10.057958Z",
     "shell.execute_reply": "2022-11-16T18:34:10.056676Z"
    },
    "papermill": {
     "duration": 0.074184,
     "end_time": "2022-11-16T18:34:10.061177",
     "exception": false,
     "start_time": "2022-11-16T18:34:09.986993",
     "status": "completed"
    },
    "tags": []
   },
   "outputs": [],
   "source": [
    "# Set up code checking\n",
    "#I made no changes here, this was provided by the course\n",
    "from learntools.core import binder\n",
    "binder.bind(globals())\n",
    "from learntools.machine_learning.ex7 import *\n",
    "\n",
    "# Set up filepaths\n",
    "import os\n",
    "if not os.path.exists(\"../input/train.csv\"):\n",
    "    os.symlink(\"../input/home-data-for-ml-course/train.csv\", \"../input/train.csv\")  \n",
    "    os.symlink(\"../input/home-data-for-ml-course/test.csv\", \"../input/test.csv\") "
   ]
  },
  {
   "cell_type": "markdown",
   "id": "b33df8df",
   "metadata": {
    "papermill": {
     "duration": 0.003667,
     "end_time": "2022-11-16T18:34:10.068868",
     "exception": false,
     "start_time": "2022-11-16T18:34:10.065201",
     "status": "completed"
    },
    "tags": []
   },
   "source": [
    "Here's some of the code you've written so far. Start by running it again."
   ]
  },
  {
   "cell_type": "code",
   "execution_count": 2,
   "id": "af904501",
   "metadata": {
    "execution": {
     "iopub.execute_input": "2022-11-16T18:34:10.079292Z",
     "iopub.status.busy": "2022-11-16T18:34:10.078622Z",
     "iopub.status.idle": "2022-11-16T18:34:12.596334Z",
     "shell.execute_reply": "2022-11-16T18:34:12.593468Z"
    },
    "papermill": {
     "duration": 2.528092,
     "end_time": "2022-11-16T18:34:12.601010",
     "exception": false,
     "start_time": "2022-11-16T18:34:10.072918",
     "status": "completed"
    },
    "tags": []
   },
   "outputs": [
    {
     "name": "stdout",
     "output_type": "stream",
     "text": [
      "True\n",
      "Validation MAE for Random Forest Model: 16,765\n"
     ]
    }
   ],
   "source": [
    "# Import helpful libraries\n",
    "import pandas as pd\n",
    "from sklearn.ensemble import RandomForestRegressor\n",
    "from sklearn.metrics import mean_absolute_error\n",
    "from sklearn.model_selection import train_test_split\n",
    "from sklearn.impute import SimpleImputer #I added this library to impute missing values\n",
    "\n",
    "# Load the data, and separate the target\n",
    "iowa_file_path = '../input/train.csv'\n",
    "home_data = pd.read_csv(iowa_file_path)\n",
    "y = home_data.SalePrice\n",
    "\n",
    "#list all my available features\n",
    "home_data.columns\n",
    "\n",
    "#This is my work\n",
    "#Create X \n",
    "#I did a lot of personal intuition and trial and error manipulation to choose these variables.\n",
    "#I look forward to learning python techniques to implement statistical algorithms for variable selection!\n",
    "features = [ 'LotArea', 'Neighborhood', 'BldgType', 'OverallQual', 'OverallCond', 'YearBuilt', 'ExterCond', 'BsmtQual','BsmtExposure','BsmtFinSF1', '1stFlrSF', '2ndFlrSF', 'FullBath','KitchenQual','GarageCond','Fence', 'TotRmsAbvGrd']\n",
    "\n",
    "# Select columns corresponding to features, and preview the data\n",
    "X = home_data[features]\n",
    "\n",
    "# One-hotcoding categorical variables using dummy variables\n",
    "# The term dummy makes me giggle\n",
    "X_dummies = pd.get_dummies(X)\n",
    "\n",
    "# check it went well\n",
    "#X.head()\n",
    "\n",
    "# The rest of this code block is unchanged from the exercise\n",
    "#Split into validation and training data\n",
    "train_X, val_X, train_y, val_y = train_test_split(X_dummies, y, random_state=1)\n",
    "\n",
    "# Define a random forest model\n",
    "rf_model = RandomForestRegressor(random_state=1)\n",
    "rf_model.fit(train_X, train_y)\n",
    "rf_val_predictions = rf_model.predict(val_X)\n",
    "rf_val_mae = mean_absolute_error(rf_val_predictions, val_y)\n",
    "print(len(rf_val_predictions)==len(val_y))\n",
    "print(\"Validation MAE for Random Forest Model: {:,.0f}\".format(rf_val_mae))"
   ]
  },
  {
   "cell_type": "markdown",
   "id": "b4018998",
   "metadata": {
    "papermill": {
     "duration": 0.005371,
     "end_time": "2022-11-16T18:34:12.613093",
     "exception": false,
     "start_time": "2022-11-16T18:34:12.607722",
     "status": "completed"
    },
    "tags": []
   },
   "source": [
    "# Train a model for the competition\n",
    "\n",
    "The code cell above trains a Random Forest model on **`train_X`** and **`train_y`**.  \n",
    "\n",
    "Use the code cell below to build a Random Forest model and train it on all of **`X`** and **`y`**."
   ]
  },
  {
   "cell_type": "code",
   "execution_count": 3,
   "id": "f9b3bdf3",
   "metadata": {
    "execution": {
     "iopub.execute_input": "2022-11-16T18:34:12.622857Z",
     "iopub.status.busy": "2022-11-16T18:34:12.622484Z",
     "iopub.status.idle": "2022-11-16T18:34:13.744845Z",
     "shell.execute_reply": "2022-11-16T18:34:13.744028Z"
    },
    "papermill": {
     "duration": 1.129833,
     "end_time": "2022-11-16T18:34:13.747086",
     "exception": false,
     "start_time": "2022-11-16T18:34:12.617253",
     "status": "completed"
    },
    "tags": []
   },
   "outputs": [
    {
     "data": {
      "text/plain": [
       "RandomForestRegressor(random_state=1)"
      ]
     },
     "execution_count": 3,
     "metadata": {},
     "output_type": "execute_result"
    }
   ],
   "source": [
    "# No changes here\n",
    "#To improve accuracy, create a new Random Forest model which you will train on all training data\n",
    "rf_model_on_full_data = RandomForestRegressor(random_state=1)\n",
    "\n",
    "\n",
    "# fit rf_model_on_full_data on all data from the training data\n",
    "rf_model_on_full_data.fit(X_dummies, y)\n"
   ]
  },
  {
   "cell_type": "markdown",
   "id": "67c63047",
   "metadata": {
    "papermill": {
     "duration": 0.004018,
     "end_time": "2022-11-16T18:34:13.755446",
     "exception": false,
     "start_time": "2022-11-16T18:34:13.751428",
     "status": "completed"
    },
    "tags": []
   },
   "source": [
    "Now, read the file of \"test\" data, and apply your model to make predictions."
   ]
  },
  {
   "cell_type": "code",
   "execution_count": 4,
   "id": "b5e2404e",
   "metadata": {
    "execution": {
     "iopub.execute_input": "2022-11-16T18:34:13.766333Z",
     "iopub.status.busy": "2022-11-16T18:34:13.765126Z",
     "iopub.status.idle": "2022-11-16T18:34:13.871738Z",
     "shell.execute_reply": "2022-11-16T18:34:13.870700Z"
    },
    "papermill": {
     "duration": 0.115317,
     "end_time": "2022-11-16T18:34:13.874896",
     "exception": false,
     "start_time": "2022-11-16T18:34:13.759579",
     "status": "completed"
    },
    "tags": []
   },
   "outputs": [
    {
     "name": "stderr",
     "output_type": "stream",
     "text": [
      "/opt/conda/lib/python3.7/site-packages/sklearn/base.py:451: UserWarning: X does not have valid feature names, but RandomForestRegressor was fitted with feature names\n",
      "  \"X does not have valid feature names, but\"\n"
     ]
    }
   ],
   "source": [
    "#In this code block I added the feature of imputing missing values\n",
    "#path to file you will use for predictions\n",
    "test_data_path = '../input/test.csv'\n",
    "\n",
    "# read test data file using pandas\n",
    "test_data = pd.read_csv(test_data_path)\n",
    "\n",
    "# create test_X which comes from test_data but includes only the columns you used for prediction.\n",
    "# The list of columns is stored in a variable called features\n",
    "test_X = test_data[features]\n",
    "\n",
    "#I added code that One-hot encodes categorical data as dummies\n",
    "test_X_v2= pd.get_dummies(test_X)\n",
    "\n",
    "#This was the biggest change\n",
    "#impute missing values\n",
    "my_imputer = SimpleImputer()\n",
    "test_X_v3 = my_imputer.fit_transform(test_X_v2)\n",
    "\n",
    "\n",
    "# make predictions which we will submit. \n",
    "test_preds = rf_model_on_full_data.predict(test_X_v3)\n",
    "\n",
    "#I was suprised at how much fine tuning this code block took. \n",
    "#The lines below helped me when I was debugging\n",
    "#print('length of test data', len(test_data))\n",
    "#print('length of variables being used', len(test_X))\n",
    "#print('length of predictions',len(test_preds))\n"
   ]
  },
  {
   "cell_type": "markdown",
   "id": "1a2529eb",
   "metadata": {
    "papermill": {
     "duration": 0.0041,
     "end_time": "2022-11-16T18:34:13.883369",
     "exception": false,
     "start_time": "2022-11-16T18:34:13.879269",
     "status": "completed"
    },
    "tags": []
   },
   "source": [
    "Before submitting, run a check to make sure your `test_preds` have the right format."
   ]
  },
  {
   "cell_type": "code",
   "execution_count": 5,
   "id": "ea45b5cf",
   "metadata": {
    "execution": {
     "iopub.execute_input": "2022-11-16T18:34:13.894039Z",
     "iopub.status.busy": "2022-11-16T18:34:13.893629Z",
     "iopub.status.idle": "2022-11-16T18:34:13.899172Z",
     "shell.execute_reply": "2022-11-16T18:34:13.897473Z"
    },
    "papermill": {
     "duration": 0.014385,
     "end_time": "2022-11-16T18:34:13.902207",
     "exception": false,
     "start_time": "2022-11-16T18:34:13.887822",
     "status": "completed"
    },
    "tags": []
   },
   "outputs": [],
   "source": [
    "# Check your answer (To get credit for completing the exercise, you must get a \"Correct\" result!)\n",
    "#step_1.check()\n",
    "# step_1.solution()\n",
    "\n",
    "#This check didn't run for a while, so the below helped me track down the issue.\n",
    "#print(len(test_preds))\n",
    "#print(len(test_data))"
   ]
  },
  {
   "cell_type": "markdown",
   "id": "05346098",
   "metadata": {
    "papermill": {
     "duration": 0.005255,
     "end_time": "2022-11-16T18:34:13.912652",
     "exception": false,
     "start_time": "2022-11-16T18:34:13.907397",
     "status": "completed"
    },
    "tags": []
   },
   "source": [
    "# Generate a submission\n",
    "\n",
    "Run the code cell below to generate a CSV file with your predictions that you can use to submit to the competition."
   ]
  },
  {
   "cell_type": "code",
   "execution_count": 6,
   "id": "2470e836",
   "metadata": {
    "execution": {
     "iopub.execute_input": "2022-11-16T18:34:13.924887Z",
     "iopub.status.busy": "2022-11-16T18:34:13.923783Z",
     "iopub.status.idle": "2022-11-16T18:34:13.937383Z",
     "shell.execute_reply": "2022-11-16T18:34:13.936056Z"
    },
    "papermill": {
     "duration": 0.02274,
     "end_time": "2022-11-16T18:34:13.940355",
     "exception": false,
     "start_time": "2022-11-16T18:34:13.917615",
     "status": "completed"
    },
    "tags": []
   },
   "outputs": [],
   "source": [
    "#No changes here\n",
    "#Run the code to save predictions in the format used for competition scoring\n",
    "\n",
    "output = pd.DataFrame({'Id': test_data.Id,\n",
    "                       'SalePrice': test_preds})\n",
    "output.to_csv('submission.csv', index=False)"
   ]
  },
  {
   "cell_type": "markdown",
   "id": "8f59b05f",
   "metadata": {
    "papermill": {
     "duration": 0.003982,
     "end_time": "2022-11-16T18:34:13.948795",
     "exception": false,
     "start_time": "2022-11-16T18:34:13.944813",
     "status": "completed"
    },
    "tags": []
   },
   "source": [
    "# Submit to the competition\n",
    "\n",
    "To test your results, you'll need to join the competition (if you haven't already).  So open a new window by clicking on **[this link](https://www.kaggle.com/c/home-data-for-ml-course)**.  Then click on the **Join Competition** button.\n",
    "\n",
    "![join competition image](https://i.imgur.com/axBzctl.png)\n",
    "\n",
    "Next, follow the instructions below:\n",
    "1. Begin by clicking on the **Save Version** button in the top right corner of the window.  This will generate a pop-up window.  \n",
    "2. Ensure that the **Save and Run All** option is selected, and then click on the **Save** button.\n",
    "3. This generates a window in the bottom left corner of the notebook.  After it has finished running, click on the number to the right of the **Save Version** button.  This pulls up a list of versions on the right of the screen.  Click on the ellipsis **(...)** to the right of the most recent version, and select **Open in Viewer**.  This brings you into view mode of the same page. You will need to scroll down to get back to these instructions.\n",
    "4. Click on the **Output** tab on the right of the screen.  Then, click on the file you would like to submit, and click on the **Submit** button to submit your results to the leaderboard.\n",
    "\n",
    "You have now successfully submitted to the competition!\n",
    "\n",
    "If you want to keep working to improve your performance, select the **Edit** button in the top right of the screen. Then you can change your code and repeat the process. There's a lot of room to improve, and you will climb up the leaderboard as you work.\n",
    "\n",
    "\n",
    "# Continue Your Progress\n",
    "There are many ways to improve your model, and **experimenting is a great way to learn at this point.**\n",
    "\n",
    "The best way to improve your model is to add features.  To add more features to the data, revisit the first code cell, and change this line of code to include more column names:\n",
    "```python\n",
    "features = ['LotArea', 'YearBuilt', '1stFlrSF', '2ndFlrSF', 'FullBath', 'BedroomAbvGr', 'TotRmsAbvGrd']\n",
    "```\n",
    "\n",
    "# Lol did not see this when I made my model.\n",
    "The below lets me know some variables are harder to work with than others. I didn't read past the prompt to play with the model! So missing this list I chose some other variable types, and ultimately I'm glad I missed it. It forced me to learn some new techniques on the fly!!! With a little motivating push I rise to any challenge :blush:\n",
    "\n",
    "Some features will cause errors because of issues like missing values or non-numeric data types.  Here is a complete list of potential columns that you might like to use, and that won't throw errors:\n",
    "- 'MSSubClass'\n",
    "- 'LotArea'\n",
    "- 'OverallQual' \n",
    "- 'OverallCond' \n",
    "- 'YearBuilt'\n",
    "- 'YearRemodAdd' \n",
    "- '1stFlrSF'\n",
    "- '2ndFlrSF' \n",
    "- 'LowQualFinSF' \n",
    "- 'GrLivArea'\n",
    "- 'FullBath'\n",
    "- 'HalfBath'\n",
    "- 'BedroomAbvGr' \n",
    "- 'KitchenAbvGr' \n",
    "- 'TotRmsAbvGrd' \n",
    "- 'Fireplaces' \n",
    "- 'WoodDeckSF' \n",
    "- 'OpenPorchSF'\n",
    "- 'EnclosedPorch' \n",
    "- '3SsnPorch' \n",
    "- 'ScreenPorch' \n",
    "- 'PoolArea' \n",
    "- 'MiscVal' \n",
    "- 'MoSold' \n",
    "- 'YrSold'\n",
    "\n",
    "Look at the list of columns and think about what might affect home prices.  To learn more about each of these features, take a look at the data description on the **[competition page](https://www.kaggle.com/c/home-data-for-ml-course/data)**.\n",
    "\n",
    "After updating the code cell above that defines the features, re-run all of the code cells to evaluate the model and generate a new submission file.  \n",
    "\n",
    "\n",
    "# What's next?\n",
    "\n",
    "As mentioned above, some of the features will throw an error if you try to use them to train your model.  The **[Intermediate Machine Learning](https://www.kaggle.com/learn/intermediate-machine-learning)** course will teach you how to handle these types of features. You will also learn to use **xgboost**, a technique giving even better accuracy than Random Forest.\n",
    "\n",
    "The **[Pandas](https://kaggle.com/Learn/Pandas)** course will give you the data manipulation skills to quickly go from conceptual idea to implementation in your data science projects. \n",
    "\n",
    "You are also ready for the **[Deep Learning](https://kaggle.com/Learn/intro-to-Deep-Learning)** course, where you will build models with better-than-human level performance at computer vision tasks."
   ]
  },
  {
   "cell_type": "markdown",
   "id": "eef16e91",
   "metadata": {
    "papermill": {
     "duration": 0.004042,
     "end_time": "2022-11-16T18:34:13.957168",
     "exception": false,
     "start_time": "2022-11-16T18:34:13.953126",
     "status": "completed"
    },
    "tags": []
   },
   "source": [
    "---\n",
    "\n",
    "\n",
    "\n",
    "\n",
    "*Have questions or comments? Visit the [course discussion forum](https://www.kaggle.com/learn/intro-to-machine-learning/discussion) to chat with other learners.*"
   ]
  }
 ],
 "metadata": {
  "kernelspec": {
   "display_name": "Python 3",
   "language": "python",
   "name": "python3"
  },
  "language_info": {
   "codemirror_mode": {
    "name": "ipython",
    "version": 3
   },
   "file_extension": ".py",
   "mimetype": "text/x-python",
   "name": "python",
   "nbconvert_exporter": "python",
   "pygments_lexer": "ipython3",
   "version": "3.7.12"
  },
  "papermill": {
   "default_parameters": {},
   "duration": 14.927932,
   "end_time": "2022-11-16T18:34:14.786012",
   "environment_variables": {},
   "exception": null,
   "input_path": "__notebook__.ipynb",
   "output_path": "__notebook__.ipynb",
   "parameters": {},
   "start_time": "2022-11-16T18:33:59.858080",
   "version": "2.3.4"
  }
 },
 "nbformat": 4,
 "nbformat_minor": 5
}
