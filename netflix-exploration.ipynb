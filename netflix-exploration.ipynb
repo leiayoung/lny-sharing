{
 "cells": [
  {
   "cell_type": "markdown",
   "id": "158d04eb",
   "metadata": {
    "papermill": {
     "duration": 0.01033,
     "end_time": "2023-01-04T03:41:37.976302",
     "exception": false,
     "start_time": "2023-01-04T03:41:37.965972",
     "status": "completed"
    },
    "tags": []
   },
   "source": [
    "In this notebook I'll explore the data called \"The Ultimate Netflix TV Shows and Movies (2022 Updated)\" by going through the process of preliminary data visualization, defining a goal, developing a model on a training set, testing the model on a validation set, finally fit my finished model to the full data set and prepare presentation visualizations.\n",
    "This data set is found on Kaggle on 12/7/2022"
   ]
  },
  {
   "cell_type": "code",
   "execution_count": 1,
   "id": "749d726a",
   "metadata": {
    "_cell_guid": "b1076dfc-b9ad-4769-8c92-a6c4dae69d19",
    "_uuid": "8f2839f25d086af736a60e9eeb907d3b93b6e0e5",
    "execution": {
     "iopub.execute_input": "2023-01-04T03:41:37.996349Z",
     "iopub.status.busy": "2023-01-04T03:41:37.995358Z",
     "iopub.status.idle": "2023-01-04T03:41:40.151530Z",
     "shell.execute_reply": "2023-01-04T03:41:40.149865Z"
    },
    "papermill": {
     "duration": 2.17002,
     "end_time": "2023-01-04T03:41:40.155091",
     "exception": false,
     "start_time": "2023-01-04T03:41:37.985071",
     "status": "completed"
    },
    "tags": []
   },
   "outputs": [
    {
     "name": "stdout",
     "output_type": "stream",
     "text": [
      "49\n"
     ]
    },
    {
     "data": {
      "text/html": [
       "<div>\n",
       "<style scoped>\n",
       "    .dataframe tbody tr th:only-of-type {\n",
       "        vertical-align: middle;\n",
       "    }\n",
       "\n",
       "    .dataframe tbody tr th {\n",
       "        vertical-align: top;\n",
       "    }\n",
       "\n",
       "    .dataframe thead th {\n",
       "        text-align: right;\n",
       "    }\n",
       "</style>\n",
       "<table border=\"1\" class=\"dataframe\">\n",
       "  <thead>\n",
       "    <tr style=\"text-align: right;\">\n",
       "      <th></th>\n",
       "      <th>TITLE</th>\n",
       "      <th>RELEASE_YEAR</th>\n",
       "      <th>SCORE</th>\n",
       "      <th>MAIN_GENRE</th>\n",
       "      <th>MAIN_PRODUCTION</th>\n",
       "    </tr>\n",
       "    <tr>\n",
       "      <th>index</th>\n",
       "      <th></th>\n",
       "      <th></th>\n",
       "      <th></th>\n",
       "      <th></th>\n",
       "      <th></th>\n",
       "    </tr>\n",
       "  </thead>\n",
       "  <tbody>\n",
       "    <tr>\n",
       "      <th>0</th>\n",
       "      <td>White Christmas</td>\n",
       "      <td>1954</td>\n",
       "      <td>7.5</td>\n",
       "      <td>romance</td>\n",
       "      <td>US</td>\n",
       "    </tr>\n",
       "    <tr>\n",
       "      <th>1</th>\n",
       "      <td>The Guns of Navarone</td>\n",
       "      <td>1961</td>\n",
       "      <td>7.5</td>\n",
       "      <td>war</td>\n",
       "      <td>US</td>\n",
       "    </tr>\n",
       "    <tr>\n",
       "      <th>2</th>\n",
       "      <td>My Fair Lady</td>\n",
       "      <td>1964</td>\n",
       "      <td>7.8</td>\n",
       "      <td>drama</td>\n",
       "      <td>US</td>\n",
       "    </tr>\n",
       "    <tr>\n",
       "      <th>3</th>\n",
       "      <td>Bonnie and Clyde</td>\n",
       "      <td>1967</td>\n",
       "      <td>7.7</td>\n",
       "      <td>drama</td>\n",
       "      <td>US</td>\n",
       "    </tr>\n",
       "    <tr>\n",
       "      <th>4</th>\n",
       "      <td>Dirty Harry</td>\n",
       "      <td>1971</td>\n",
       "      <td>7.7</td>\n",
       "      <td>thriller</td>\n",
       "      <td>US</td>\n",
       "    </tr>\n",
       "  </tbody>\n",
       "</table>\n",
       "</div>"
      ],
      "text/plain": [
       "                      TITLE  RELEASE_YEAR  SCORE MAIN_GENRE MAIN_PRODUCTION\n",
       "index                                                                      \n",
       "0           White Christmas          1954    7.5    romance              US\n",
       "1      The Guns of Navarone          1961    7.5        war              US\n",
       "2              My Fair Lady          1964    7.8      drama              US\n",
       "3          Bonnie and Clyde          1967    7.7      drama              US\n",
       "4               Dirty Harry          1971    7.7   thriller              US"
      ]
     },
     "execution_count": 1,
     "metadata": {},
     "output_type": "execute_result"
    }
   ],
   "source": [
    "# Import my packages, \n",
    "# numpy for math, pandas for data, \n",
    "# matplotlib.pyplot for Matlab like visualizations, seaborn for fancier visualizations \n",
    "# sqldf for SQL syntax in Pandas\n",
    "# sklearn packages for machine learning\n",
    "import numpy as np \n",
    "import pandas as pd \n",
    "import itertools\n",
    "pd.plotting.register_matplotlib_converters()\n",
    "import matplotlib.pyplot as plt \n",
    "%matplotlib inline\n",
    "import seaborn as sns \n",
    "import pandasql as psql\n",
    "from sklearn.ensemble import RandomForestRegressor\n",
    "from sklearn.metrics import mean_absolute_error\n",
    "from sklearn.model_selection import train_test_split\n",
    "from sklearn.pipeline import Pipeline\n",
    "from sklearn.model_selection import cross_val_score\n",
    "from sklearn.feature_selection import RFECV\n",
    "\n",
    "# Input data files are available in the read-only \"../input/\" directory\n",
    "# For example, running this (by clicking run or pressing Shift+Enter) will list all files under the input directory\n",
    "\n",
    "import os\n",
    "file_paths =[]\n",
    "for dirname, _, filenames in os.walk('/kaggle/input'):\n",
    "    for filename in filenames:\n",
    "        file_paths.append(os.path.join(dirname, filename))\n",
    "\n",
    "# You can write up to 20GB to the current directory (/kaggle/working/) that gets preserved as output when you create a version using \"Save & Run All\" \n",
    "# You can also write temporary files to /kaggle/temp/, but they won't be saved outside of the current session\n",
    "\n",
    "#read the files into pandas dataframes and give them easy to use names\n",
    "data_set_names = [\"bm_net_data\", \"credits_data\", \"titles_data\", \"bm_year_data\", \"bs_year_data\", \"bs_net_data\"]\n",
    "for  (name, file) in zip(data_set_names, file_paths):\n",
    "    # read the file into a dataframe\n",
    "    df = pd.read_csv(file, index_col= \"index\")\n",
    "    # create a new variable with the convient names\n",
    "    exec(name + \"=df\")\n",
    "print(len(bm_year_data))\n",
    "bm_year_data.head()\n"
   ]
  },
  {
   "cell_type": "markdown",
   "id": "ad3c4b98",
   "metadata": {
    "papermill": {
     "duration": 0.008385,
     "end_time": "2023-01-04T03:41:40.172393",
     "exception": false,
     "start_time": "2023-01-04T03:41:40.164008",
     "status": "completed"
    },
    "tags": []
   },
   "source": [
    "Data exploration starts with understanding your variables by creating summary statistics and looking at some initial visualizations."
   ]
  },
  {
   "cell_type": "markdown",
   "id": "1e6bc08b",
   "metadata": {
    "papermill": {
     "duration": 0.008221,
     "end_time": "2023-01-04T03:41:40.189415",
     "exception": false,
     "start_time": "2023-01-04T03:41:40.181194",
     "status": "completed"
    },
    "tags": []
   },
   "source": [
    "Details of the data: The Best Movie By Year file contains the best movie by year as determined by IMDB score and number of votes\n",
    "\n",
    "TITLE: The title of the movie or TV show. (String)\n",
    "RELEASE_YEAR: The year the movie or TV show was released. (Integer)\n",
    "SCORE: The IMDB score for the movie or TV show. (Float)\n",
    "MAIN_GENRE: The main genre of the movie or TV show. (String)\n",
    "MAIN_PRODUCTION: The main production company of the movie or TV show. (String)"
   ]
  },
  {
   "cell_type": "code",
   "execution_count": 2,
   "id": "b2120bba",
   "metadata": {
    "execution": {
     "iopub.execute_input": "2023-01-04T03:41:40.209623Z",
     "iopub.status.busy": "2023-01-04T03:41:40.208926Z",
     "iopub.status.idle": "2023-01-04T03:41:40.412540Z",
     "shell.execute_reply": "2023-01-04T03:41:40.410833Z"
    },
    "papermill": {
     "duration": 0.218108,
     "end_time": "2023-01-04T03:41:40.416199",
     "exception": false,
     "start_time": "2023-01-04T03:41:40.198091",
     "status": "completed"
    },
    "tags": []
   },
   "outputs": [
    {
     "name": "stdout",
     "output_type": "stream",
     "text": [
      "Overall the IMDB scores ranged from  5.8 to  9.0 over the years  1954  and  2022\n",
      "The average score was 7.871  and the standard deviation was  0.633\n",
      "There was 1 with the highest rank.\n",
      "The highest rated movie was  David Attenborough: A Life on Our Planet with a IMDB score of  9.0\n",
      "It was released in  2020 and was of the  documentary genera.\n"
     ]
    }
   ],
   "source": [
    "#a few descriptive statistics about the Best Movie by Year data\n",
    "print(\"Overall the IMDB scores ranged from \", bm_year_data.SCORE.min(), \"to \", bm_year_data.SCORE.max(), \"over the years \", bm_year_data.RELEASE_YEAR.min(), \" and \",bm_year_data.RELEASE_YEAR.max() )\n",
    "print(\"The average score was\", np.around(bm_year_data.SCORE.mean(), decimals=3), \" and the standard deviation was \", np.around(bm_year_data.SCORE.std(), decimals=3))\n",
    "\n",
    "#Use a query to find the best movies\n",
    "best_movies=psql.sqldf(\"\"\"select * \n",
    "                       from bm_year_data \n",
    "                       where SCORE = (select max(SCORE) from bm_year_data)\"\"\")\n",
    "\n",
    "print(\"There was\", len(best_movies), \"with the highest rank.\")\n",
    "print(\"The highest rated movie was \", best_movies.TITLE[0], \"with a IMDB score of \",best_movies.SCORE[0] )\n",
    "print(\"It was released in \", best_movies.RELEASE_YEAR[0],\"and was of the \", best_movies.MAIN_GENRE[0], \"genera.\")\n"
   ]
  },
  {
   "cell_type": "code",
   "execution_count": 3,
   "id": "32133fcd",
   "metadata": {
    "execution": {
     "iopub.execute_input": "2023-01-04T03:41:40.439115Z",
     "iopub.status.busy": "2023-01-04T03:41:40.438652Z",
     "iopub.status.idle": "2023-01-04T03:41:40.781875Z",
     "shell.execute_reply": "2023-01-04T03:41:40.780558Z"
    },
    "papermill": {
     "duration": 0.357557,
     "end_time": "2023-01-04T03:41:40.785262",
     "exception": false,
     "start_time": "2023-01-04T03:41:40.427705",
     "status": "completed"
    },
    "tags": []
   },
   "outputs": [
    {
     "data": {
      "text/plain": [
       "Text(0, 0.5, 'Frequency')"
      ]
     },
     "execution_count": 3,
     "metadata": {},
     "output_type": "execute_result"
    },
    {
     "data": {
      "image/png": "[encoded data removed]",
      "text/plain": [
       "<Figure size 720x432 with 1 Axes>"
      ]
     },
     "metadata": {
      "needs_background": "light"
     },
     "output_type": "display_data"
    }
   ],
   "source": [
    "#a few descriptive graphs\n",
    "\n",
    "#first a bar chart of scores\n",
    "# Set the width and height of the figure\n",
    "plt.figure(figsize=(10,6))\n",
    "\n",
    "# Add title\n",
    "plt.title(\"Frequency of IMDB Scores by Year in the 2022 Best Netflix Movies list\")\n",
    "\n",
    "# Histogram showing distribution of scores\n",
    "sns.histplot(data=bm_year_data, x='SCORE')\n",
    "\n",
    "# Add label for vertical axis\n",
    "plt.ylabel(\"Frequency\")\n",
    "\n"
   ]
  },
  {
   "cell_type": "code",
   "execution_count": 4,
   "id": "768d7561",
   "metadata": {
    "execution": {
     "iopub.execute_input": "2023-01-04T03:41:40.807029Z",
     "iopub.status.busy": "2023-01-04T03:41:40.806539Z",
     "iopub.status.idle": "2023-01-04T03:41:41.110260Z",
     "shell.execute_reply": "2023-01-04T03:41:41.108841Z"
    },
    "papermill": {
     "duration": 0.318517,
     "end_time": "2023-01-04T03:41:41.113636",
     "exception": false,
     "start_time": "2023-01-04T03:41:40.795119",
     "status": "completed"
    },
    "tags": []
   },
   "outputs": [
    {
     "data": {
      "text/plain": [
       "Text(0.5, 1.0, 'Genres in the 2022 Best Netflix Movies list')"
      ]
     },
     "execution_count": 4,
     "metadata": {},
     "output_type": "execute_result"
    },
    {
     "data": {
      "image/png": "[encoded data removed]",
      "text/plain": [
       "<Figure size 1008x432 with 1 Axes>"
      ]
     },
     "metadata": {
      "needs_background": "light"
     },
     "output_type": "display_data"
    }
   ],
   "source": [
    "# Set the width and height of the figure\n",
    "plt.figure(figsize=(14,6))\n",
    "\n",
    "#Bar chart showing distribution of genres\n",
    "sns.countplot(data=bm_year_data, \n",
    "              x='MAIN_GENRE', \n",
    "              order =bm_year_data['MAIN_GENRE'].value_counts().index)\n",
    "\n",
    "# Add title\n",
    "plt.title(\"Genres in the 2022 Best Netflix Movies list\")\n",
    "\n"
   ]
  },
  {
   "cell_type": "code",
   "execution_count": 5,
   "id": "c09c224d",
   "metadata": {
    "execution": {
     "iopub.execute_input": "2023-01-04T03:41:41.136342Z",
     "iopub.status.busy": "2023-01-04T03:41:41.135773Z",
     "iopub.status.idle": "2023-01-04T03:41:41.656752Z",
     "shell.execute_reply": "2023-01-04T03:41:41.655320Z"
    },
    "papermill": {
     "duration": 0.536425,
     "end_time": "2023-01-04T03:41:41.660035",
     "exception": false,
     "start_time": "2023-01-04T03:41:41.123610",
     "status": "completed"
    },
    "tags": []
   },
   "outputs": [
    {
     "data": {
      "text/plain": [
       "Text(0.5, 1.0, 'Genres in the 2022 Best Netflix Movies list')"
      ]
     },
     "execution_count": 5,
     "metadata": {},
     "output_type": "execute_result"
    },
    {
     "data": {
      "image/png": "[encoded data removed]",
      "text/plain": [
       "<Figure size 720x360 with 1 Axes>"
      ]
     },
     "metadata": {
      "needs_background": "light"
     },
     "output_type": "display_data"
    }
   ],
   "source": [
    "#box plots for genres\n",
    "# Set the width and height of the figure\n",
    "#plt.figure(figsize=(14,6))\n",
    "\n",
    "#Bar chart showing distribution of genres\n",
    "sns.catplot(data=bm_year_data, \n",
    "            x='MAIN_GENRE',\n",
    "            y='SCORE', \n",
    "            order =bm_year_data['MAIN_GENRE'].value_counts().index, \n",
    "            kind = 'box', \n",
    "            aspect = 2)\n",
    "\n",
    "# Add title\n",
    "plt.title(\"Genres in the 2022 Best Netflix Movies list\")\n"
   ]
  },
  {
   "cell_type": "code",
   "execution_count": 6,
   "id": "d7096c39",
   "metadata": {
    "execution": {
     "iopub.execute_input": "2023-01-04T03:41:41.683255Z",
     "iopub.status.busy": "2023-01-04T03:41:41.681794Z",
     "iopub.status.idle": "2023-01-04T03:41:42.376634Z",
     "shell.execute_reply": "2023-01-04T03:41:42.375072Z"
    },
    "papermill": {
     "duration": 0.709393,
     "end_time": "2023-01-04T03:41:42.379686",
     "exception": false,
     "start_time": "2023-01-04T03:41:41.670293",
     "status": "completed"
    },
    "tags": []
   },
   "outputs": [
    {
     "data": {
      "text/plain": [
       "<AxesSubplot:xlabel='RELEASE_YEAR', ylabel='SCORE'>"
      ]
     },
     "execution_count": 6,
     "metadata": {},
     "output_type": "execute_result"
    },
    {
     "data": {
      "image/png": "[encoded data removed]",
      "text/plain": [
       "<Figure size 1152x432 with 1 Axes>"
      ]
     },
     "metadata": {
      "needs_background": "light"
     },
     "output_type": "display_data"
    }
   ],
   "source": [
    "# Set the width and height of the figure\n",
    "plt.figure(figsize=(16,6))\n",
    "#Scatter plot of IMDB  Year vs Score\n",
    "sns.scatterplot(data=bm_year_data, \n",
    "                x='RELEASE_YEAR', \n",
    "                y='SCORE', \n",
    "                hue='MAIN_GENRE')\n",
    "\n",
    "#bar chart of MAIN_PRODUCTION i.e. location\n",
    "#box plots of scores based on genre\n",
    "\n",
    "#scatter plot of scores vs years"
   ]
  },
  {
   "cell_type": "markdown",
   "id": "ac6d5d7e",
   "metadata": {
    "papermill": {
     "duration": 0.010456,
     "end_time": "2023-01-04T03:41:42.401368",
     "exception": false,
     "start_time": "2023-01-04T03:41:42.390912",
     "status": "completed"
    },
    "tags": []
   },
   "source": [
    "Let's continue the process of exploratory descriptive statistics with the other data sets!"
   ]
  },
  {
   "cell_type": "code",
   "execution_count": 7,
   "id": "863b0300",
   "metadata": {
    "execution": {
     "iopub.execute_input": "2023-01-04T03:41:42.425705Z",
     "iopub.status.busy": "2023-01-04T03:41:42.424531Z",
     "iopub.status.idle": "2023-01-04T03:41:42.429764Z",
     "shell.execute_reply": "2023-01-04T03:41:42.428818Z"
    },
    "papermill": {
     "duration": 0.019754,
     "end_time": "2023-01-04T03:41:42.431906",
     "exception": false,
     "start_time": "2023-01-04T03:41:42.412152",
     "status": "completed"
    },
    "tags": []
   },
   "outputs": [],
   "source": [
    "#Heat map of Genres and Year with Score as heat"
   ]
  },
  {
   "cell_type": "code",
   "execution_count": 8,
   "id": "78cbd117",
   "metadata": {
    "execution": {
     "iopub.execute_input": "2023-01-04T03:41:42.456186Z",
     "iopub.status.busy": "2023-01-04T03:41:42.455261Z",
     "iopub.status.idle": "2023-01-04T03:41:42.512960Z",
     "shell.execute_reply": "2023-01-04T03:41:42.511960Z"
    },
    "papermill": {
     "duration": 0.072748,
     "end_time": "2023-01-04T03:41:42.515611",
     "exception": false,
     "start_time": "2023-01-04T03:41:42.442863",
     "status": "completed"
    },
    "tags": []
   },
   "outputs": [
    {
     "name": "stdout",
     "output_type": "stream",
     "text": [
      "Overall the IMDB scores ranged from  6.9 to  9.0 over the years  1954  and  2022\n",
      "The average score was 7.509  and the standard deviation was  0.442\n",
      "There was 1 with the highest rank.\n",
      "The highest rated movie was  David Attenborough: A Life on Our Planet with a IMDB score of  9.0\n",
      "It was released in  2020 and was of the  documentary genera.\n"
     ]
    }
   ],
   "source": [
    "#Best Movie \n",
    "#a few descriptive statistics about the Best Movie on Netflix data\n",
    "print(\"Overall the IMDB scores ranged from \", bm_net_data.SCORE.min(), \"to \", bm_net_data.SCORE.max(), \"over the years \", bm_net_data.RELEASE_YEAR.min(), \" and \",bm_net_data.RELEASE_YEAR.max() )\n",
    "print(\"The average score was\", np.around(bm_net_data.SCORE.mean(), decimals=3), \" and the standard deviation was \", np.around(bm_net_data.SCORE.std(), decimals=3))\n",
    "\n",
    "#Use a query to find the best movies\n",
    "best_movies=psql.sqldf(\"\"\"select * \n",
    "                       from bm_net_data \n",
    "                       where SCORE = (select max(SCORE) from bm_net_data)\"\"\")\n",
    "\n",
    "print(\"There was\", len(best_movies), \"with the highest rank.\")\n",
    "print(\"The highest rated movie was \", best_movies.TITLE[0], \"with a IMDB score of \",best_movies.SCORE[0] )\n",
    "print(\"It was released in \", best_movies.RELEASE_YEAR[0],\"and was of the \", best_movies.MAIN_GENRE[0], \"genera.\")\n",
    "\n",
    "#Best Show by Year\n",
    "#Best Show\n",
    "#credits\n",
    "#titles"
   ]
  },
  {
   "cell_type": "markdown",
   "id": "149b10d4",
   "metadata": {
    "papermill": {
     "duration": 0.010666,
     "end_time": "2023-01-04T03:41:42.537643",
     "exception": false,
     "start_time": "2023-01-04T03:41:42.526977",
     "status": "completed"
    },
    "tags": []
   },
   "source": [
    "I suspect that the Best Movies By Year Netflix data set is a subset of the Best Movies Netflix data set. Let's explore that."
   ]
  },
  {
   "cell_type": "code",
   "execution_count": 9,
   "id": "adea7b80",
   "metadata": {
    "execution": {
     "iopub.execute_input": "2023-01-04T03:41:42.562582Z",
     "iopub.status.busy": "2023-01-04T03:41:42.561912Z",
     "iopub.status.idle": "2023-01-04T03:41:42.772669Z",
     "shell.execute_reply": "2023-01-04T03:41:42.771234Z"
    },
    "papermill": {
     "duration": 0.226676,
     "end_time": "2023-01-04T03:41:42.775526",
     "exception": false,
     "start_time": "2023-01-04T03:41:42.548850",
     "status": "completed"
    },
    "tags": []
   },
   "outputs": [
    {
     "name": "stdout",
     "output_type": "stream",
     "text": [
      "There are  49  values in the Best Movies By Year data set.\n",
      "There are  47  values in common between the Netflix Best Movies data set and the By Year data set\n",
      "The following movies are the ones not in both sets\n",
      "    RELEASE_YEAR            TITLE\n",
      "9           2016        Christine\n",
      "9           1980  The Blue Lagoon\n",
      "10          1982            Annie\n",
      "11          1983        Christine\n",
      "There are  49  values that have the highest rank grouped by year in the Netflix Best Movies data set\n",
      "There are  49  values in the original By Year data set\n",
      "The following movies are the ones not in both sets\n",
      "    RELEASE_YEAR                                        TITLE\n",
      "3           1966                            The Professionals\n",
      "10          1980                              The Long Riders\n",
      "11          1982      Monty Python Live at the Hollywood Bowl\n",
      "21          1995                                       Bombay\n",
      "28          2002                   The Legend of Bhagat Singh\n",
      "29          2003                                   Anbe Sivam\n",
      "30          2004                                 Black Friday\n",
      "31          2005                                 Corpse Bride\n",
      "39          2013                            Bo Burnham: What.\n",
      "41          2015  Winter on Fire: Ukraine's Fight for Freedom\n",
      "48          2022                                        Dasvi\n",
      "9           1980                              The Blue Lagoon\n",
      "10          1982                                        Annie\n",
      "11          1983                                    Christine\n",
      "21          1995                                    Desperado\n",
      "28          2002                            Road to Perdition\n",
      "29          2003                                     Big Fish\n",
      "30          2004                                       Swades\n",
      "31          2005                          Memoirs of a Geisha\n",
      "39          2013                                         Rush\n",
      "41          2015                                     Drishyam\n",
      "48          2022                          The Tinder Swindler\n"
     ]
    }
   ],
   "source": [
    "#Inner merge the tables to see if bm_year_data is a subset of bm_net_data\n",
    "\n",
    "\n",
    "same_bm = psql.sqldf('''SELECT y.TITLE,y.RELEASE_YEAR, n.TITLE , n.RELEASE_YEAR      \n",
    "      FROM bm_year_data y\n",
    "      INNER JOIN bm_net_data n \n",
    "     ON y.TITLE = n.TITLE''' ) \n",
    "#Every movie is listed twice, so just keep the distict years\n",
    "unique_same_bm = psql.sqldf('''SELECT DISTINCT RELEASE_YEAR, TITLE FROM same_bm''')\n",
    "\n",
    "#From the original data keep just Release Year and Title\n",
    "year_bm = psql.sqldf('''SELECT  y.RELEASE_YEAR  , y.TITLE     \n",
    "      FROM bm_year_data y''')\n",
    "\n",
    "#compare the two sets\n",
    "print(\"There are \", len(year_bm), \" values in the Best Movies By Year data set.\")\n",
    "print(\"There are \",len(unique_same_bm), \" values in common between the Netflix Best Movies data set and the By Year data set\")\n",
    "#list values that are not in both sets\n",
    "print(\"The following movies are the ones not in both sets\")\n",
    "print(pd.concat([unique_same_bm,year_bm]).drop_duplicates(keep=False))\n",
    "\n",
    "#use the bm_net_data to create a list of best movies for each year from that data, see if it's the same missing movies\n",
    "net_bm_by_year = psql.sqldf('''SELECT TITLE, RELEASE_YEAR, MAX(SCORE)\n",
    "            FROM bm_net_data\n",
    "            GROUP BY RELEASE_YEAR''')\n",
    "#compare my newly made best movie by year with the original best movie by year set\n",
    "print(\"There are \", len(net_bm_by_year), \" values that have the highest rank grouped by year in the Netflix Best Movies data set\")\n",
    "print(\"There are \", len(bm_year_data), \" values in the original By Year data set\")\n",
    "\n",
    "#compare the new best by year of list I made with the original best by year\n",
    "net_bm_y = psql.sqldf('''SELECT  y.RELEASE_YEAR  , y.TITLE     \n",
    "      FROM net_bm_by_year y''')\n",
    "print(\"The following movies are the ones not in both sets\")\n",
    "print(pd.concat([net_bm_y,year_bm]).drop_duplicates(keep=False))"
   ]
  },
  {
   "cell_type": "markdown",
   "id": "f57e254c",
   "metadata": {
    "papermill": {
     "duration": 0.010846,
     "end_time": "2023-01-04T03:41:42.797793",
     "exception": false,
     "start_time": "2023-01-04T03:41:42.786947",
     "status": "completed"
    },
    "tags": []
   },
   "source": [
    "Let's check my understanding of the relationship between these data sets. I believe Christine 1983, and The Professionals 1966 is not in the larger Netflix Best Movie Data set, and that best IMDB is insufficient to determine membership to the Best Movie By Year data set for several years. "
   ]
  },
  {
   "cell_type": "code",
   "execution_count": 10,
   "id": "4b26c9f5",
   "metadata": {
    "execution": {
     "iopub.execute_input": "2023-01-04T03:41:42.822773Z",
     "iopub.status.busy": "2023-01-04T03:41:42.822332Z",
     "iopub.status.idle": "2023-01-04T03:41:42.973513Z",
     "shell.execute_reply": "2023-01-04T03:41:42.972347Z"
    },
    "papermill": {
     "duration": 0.167878,
     "end_time": "2023-01-04T03:41:42.976829",
     "exception": false,
     "start_time": "2023-01-04T03:41:42.808951",
     "status": "completed"
    },
    "tags": []
   },
   "outputs": [
    {
     "name": "stdout",
     "output_type": "stream",
     "text": [
      "by year has    index                                     TITLE  RELEASE_YEAR  SCORE  \\\n",
      "0     46  David Attenborough: A Life on Our Planet          2020    9.0   \n",
      "\n",
      "    MAIN_GENRE MAIN_PRODUCTION  \n",
      "0  documentary              GB  \n",
      "from Netflix has     index                                     TITLE  RELEASE_YEAR  SCORE  \\\n",
      "0       0  David Attenborough: A Life on Our Planet          2020    9.0   \n",
      "1      51                        My Octopus Teacher          2020    8.1   \n",
      "2     128                The Trial of the Chicago 7          2020    7.7   \n",
      "3     147                        The Social Dilemma          2020    7.6   \n",
      "4     154                                 Athlete A          2020    7.6   \n",
      "5     159                                      Ludo          2020    7.6   \n",
      "6     179                   Ala Vaikunthapurramuloo          2020    7.5   \n",
      "7     208                            Miss Americana          2020    7.4   \n",
      "8     244                            Raat Akeli Hai          2020    7.3   \n",
      "9     277     American Murder: The Family Next Door          2020    7.2   \n",
      "10    289                      The Forgotten Battle          2020    7.1   \n",
      "11    291                                  The Call          2020    7.1   \n",
      "12    312                    The Devil All the Time          2020    7.1   \n",
      "13    327                         Pieces of a Woman          2020    7.0   \n",
      "14    332                               Rose Island          2020    7.0   \n",
      "15    335                                   Torbaaz          2020    7.0   \n",
      "16    353                  Ma Rainey's Black Bottom          2020    6.9   \n",
      "17    370                                  AK vs AK          2020    6.9   \n",
      "18    375                            The Half of It          2020    6.9   \n",
      "\n",
      "    NUMBER_OF_VOTES  DURATION   MAIN_GENRE MAIN_PRODUCTION  \n",
      "0             31180        83  documentary              GB  \n",
      "1             51232        84  documentary              ZA  \n",
      "2            170728       130        drama              US  \n",
      "3             79674        94        drama              US  \n",
      "4             10544       104  documentary              US  \n",
      "5             37528       150        crime              IN  \n",
      "6             14839       165        drama              IN  \n",
      "7             19151        85  documentary              US  \n",
      "8             17570       149     thriller              IN  \n",
      "9             26355        83        crime              US  \n",
      "10            26368       124        drama              LT  \n",
      "11            29450       112     thriller              KR  \n",
      "12           122321       138        drama              US  \n",
      "13            47795       127        drama              HU  \n",
      "14            20019       117        drama              IT  \n",
      "15            17828       132        drama              IN  \n",
      "16            50275        94      musical              US  \n",
      "17            14048       108        drama              IN  \n",
      "18            34959       104       comedy              US  \n"
     ]
    }
   ],
   "source": [
    "#Check my understanding of the set\n",
    "def Christine_check(data2):\n",
    "    chris= psql.sqldf('''SELECT * \n",
    "                  FROM data2 \n",
    "                  WHERE TITLE = 'Christine'\n",
    "                  ''')\n",
    "    print(chris)\n",
    "#Christine_check(bm_net_data)\n",
    "\n",
    "\n",
    "#Christine_check(bm_year_data)\n",
    "#So Christine 2016 is in the Netflix large data set but the 1983 version is not, the opposite is true for the By Year set\n",
    "def year_check(year):\n",
    "    by_year= psql.sqldf(f'''SELECT * \n",
    "                  FROM bm_year_data \n",
    "                  WHERE RELEASE_YEAR = {year}\n",
    "                  ''')\n",
    "    net= psql.sqldf(f'''SELECT * \n",
    "                  FROM bm_net_data \n",
    "                  WHERE RELEASE_YEAR = {year}\n",
    "                  ''')\n",
    "    print(\"by year has\", by_year)\n",
    "    print(\"from Netflix has\", net)\n",
    "year_check(2020)\n",
    "#By year was missing The Professionals 1966,\n",
    "#the two sets each only had one movie for 1980 and 1982  they are different movies\n",
    "#The other difference seem to be because I made my best list on score only and didn't include weight for score.\n"
   ]
  },
  {
   "cell_type": "markdown",
   "id": "60b1d6b2",
   "metadata": {
    "papermill": {
     "duration": 0.011266,
     "end_time": "2023-01-04T03:41:43.000469",
     "exception": false,
     "start_time": "2023-01-04T03:41:42.989203",
     "status": "completed"
    },
    "tags": []
   },
   "source": [
    "So while the Best Movies Netflix data set and the Best Movies By Year data set have many similar values the Best Movie By Year is not a subset of the the Best Movies Netflix data set. There were a few movies that were listed in the best by year but not in the larger Netflix data set. IMDB score is not the only thing that determined if a movie was the best that year, there is also weight placed on number of scores."
   ]
  },
  {
   "cell_type": "code",
   "execution_count": 11,
   "id": "5c73b23d",
   "metadata": {
    "execution": {
     "iopub.execute_input": "2023-01-04T03:41:43.025920Z",
     "iopub.status.busy": "2023-01-04T03:41:43.024636Z",
     "iopub.status.idle": "2023-01-04T03:41:43.318952Z",
     "shell.execute_reply": "2023-01-04T03:41:43.317693Z"
    },
    "papermill": {
     "duration": 0.310356,
     "end_time": "2023-01-04T03:41:43.322269",
     "exception": false,
     "start_time": "2023-01-04T03:41:43.011913",
     "status": "completed"
    },
    "tags": []
   },
   "outputs": [
    {
     "data": {
      "text/plain": [
       "Text(0, 0.5, 'Frequency')"
      ]
     },
     "execution_count": 11,
     "metadata": {},
     "output_type": "execute_result"
    },
    {
     "data": {
      "image/png": "[encoded data removed]",
      "text/plain": [
       "<Figure size 720x432 with 1 Axes>"
      ]
     },
     "metadata": {
      "needs_background": "light"
     },
     "output_type": "display_data"
    }
   ],
   "source": [
    "#first a bar chart of scores\n",
    "# Set the width and height of the figure\n",
    "plt.figure(figsize=(10,6))\n",
    "\n",
    "# Add title\n",
    "plt.title(\"Frequency of IMDB Scores on Netflix in the 2022 Best Netflix Movies list\")\n",
    "\n",
    "# Histogram showing distribution of scores\n",
    "sns.histplot(data=bm_net_data, x='SCORE')\n",
    "\n",
    "# Add label for vertical axis\n",
    "plt.ylabel(\"Frequency\")"
   ]
  },
  {
   "cell_type": "code",
   "execution_count": 12,
   "id": "27475a7d",
   "metadata": {
    "execution": {
     "iopub.execute_input": "2023-01-04T03:41:43.347849Z",
     "iopub.status.busy": "2023-01-04T03:41:43.347399Z",
     "iopub.status.idle": "2023-01-04T03:41:43.689900Z",
     "shell.execute_reply": "2023-01-04T03:41:43.688668Z"
    },
    "papermill": {
     "duration": 0.357982,
     "end_time": "2023-01-04T03:41:43.692464",
     "exception": false,
     "start_time": "2023-01-04T03:41:43.334482",
     "status": "completed"
    },
    "tags": []
   },
   "outputs": [
    {
     "data": {
      "text/plain": [
       "Text(0.5, 1.0, 'Genres in the 2022 Best Netflix Movies list')"
      ]
     },
     "execution_count": 12,
     "metadata": {},
     "output_type": "execute_result"
    },
    {
     "data": {
      "image/png": "[encoded data removed]",
      "text/plain": [
       "<Figure size 1296x432 with 1 Axes>"
      ]
     },
     "metadata": {
      "needs_background": "light"
     },
     "output_type": "display_data"
    }
   ],
   "source": [
    "# Set the width and height of the figure\n",
    "plt.figure(figsize=(18,6))\n",
    "\n",
    "#Bar chart showing distribution of genres\n",
    "sns.countplot(data=bm_net_data, \n",
    "              x='MAIN_GENRE', \n",
    "              order =bm_net_data['MAIN_GENRE'].value_counts().index)\n",
    "\n",
    "# Add title\n",
    "plt.title(\"Genres in the 2022 Best Netflix Movies list\")\n"
   ]
  },
  {
   "cell_type": "code",
   "execution_count": 13,
   "id": "3829a79f",
   "metadata": {
    "execution": {
     "iopub.execute_input": "2023-01-04T03:41:43.719522Z",
     "iopub.status.busy": "2023-01-04T03:41:43.718688Z",
     "iopub.status.idle": "2023-01-04T03:41:44.299879Z",
     "shell.execute_reply": "2023-01-04T03:41:44.298634Z"
    },
    "papermill": {
     "duration": 0.59798,
     "end_time": "2023-01-04T03:41:44.302527",
     "exception": false,
     "start_time": "2023-01-04T03:41:43.704547",
     "status": "completed"
    },
    "tags": []
   },
   "outputs": [
    {
     "data": {
      "text/plain": [
       "Text(0.5, 1.0, 'Genres in the 2022 Best Netflix Movies list')"
      ]
     },
     "execution_count": 13,
     "metadata": {},
     "output_type": "execute_result"
    },
    {
     "data": {
      "image/png": "[encoded data removed]",
      "text/plain": [
       "<Figure size 900x360 with 1 Axes>"
      ]
     },
     "metadata": {
      "needs_background": "light"
     },
     "output_type": "display_data"
    }
   ],
   "source": [
    "#box plots for genres\n",
    "# Set the width and height of the figure\n",
    "#plt.figure(figsize=(14,6))\n",
    "\n",
    "#Bar chart showing distribution of genres\n",
    "sns.catplot(data=bm_net_data, \n",
    "            x='MAIN_GENRE',\n",
    "            y='SCORE', \n",
    "            order =bm_net_data['MAIN_GENRE'].value_counts().index, \n",
    "            kind = 'box', \n",
    "            aspect = 2.5)\n",
    "\n",
    "# Add title\n",
    "plt.title(\"Genres in the 2022 Best Netflix Movies list\")\n"
   ]
  },
  {
   "cell_type": "code",
   "execution_count": 14,
   "id": "e0faac3e",
   "metadata": {
    "execution": {
     "iopub.execute_input": "2023-01-04T03:41:44.331263Z",
     "iopub.status.busy": "2023-01-04T03:41:44.330760Z",
     "iopub.status.idle": "2023-01-04T03:41:45.146714Z",
     "shell.execute_reply": "2023-01-04T03:41:45.145473Z"
    },
    "papermill": {
     "duration": 0.833743,
     "end_time": "2023-01-04T03:41:45.149862",
     "exception": false,
     "start_time": "2023-01-04T03:41:44.316119",
     "status": "completed"
    },
    "tags": []
   },
   "outputs": [
    {
     "data": {
      "text/plain": [
       "<AxesSubplot:xlabel='DURATION', ylabel='SCORE'>"
      ]
     },
     "execution_count": 14,
     "metadata": {},
     "output_type": "execute_result"
    },
    {
     "data": {
      "image/png": "[encoded data removed]",
      "text/plain": [
       "<Figure size 1152x432 with 1 Axes>"
      ]
     },
     "metadata": {
      "needs_background": "light"
     },
     "output_type": "display_data"
    }
   ],
   "source": [
    "# Set the width and height of the figure\n",
    "plt.figure(figsize=(16,6))\n",
    "#Scatter plot of IMDB  Year vs Score\n",
    "\n",
    "sns.scatterplot(data=bm_net_data, \n",
    "                x='DURATION', \n",
    "                y='SCORE', \n",
    "                hue='MAIN_GENRE')\n"
   ]
  },
  {
   "cell_type": "markdown",
   "id": "f9b834b3",
   "metadata": {
    "papermill": {
     "duration": 0.013297,
     "end_time": "2023-01-04T03:41:45.177533",
     "exception": false,
     "start_time": "2023-01-04T03:41:45.164236",
     "status": "completed"
    },
    "tags": []
   },
   "source": [
    "Now let's use this data to make some buisness decisions and predictions!\n",
    "Interesting question: What attributes will predict the highest IMDB scores?\n",
    "\n",
    "I'll develop a model first by starting with all features. Then using the MAE as a validation critera I'll play with the features. Finally I'll do cross validation to see that my model performs well outside the training set.\n",
    "\n"
   ]
  },
  {
   "cell_type": "code",
   "execution_count": 15,
   "id": "ff846191",
   "metadata": {
    "execution": {
     "iopub.execute_input": "2023-01-04T03:41:45.208868Z",
     "iopub.status.busy": "2023-01-04T03:41:45.208416Z",
     "iopub.status.idle": "2023-01-04T03:41:45.644199Z",
     "shell.execute_reply": "2023-01-04T03:41:45.642580Z"
    },
    "papermill": {
     "duration": 0.455982,
     "end_time": "2023-01-04T03:41:45.647681",
     "exception": false,
     "start_time": "2023-01-04T03:41:45.191699",
     "status": "completed"
    },
    "tags": []
   },
   "outputs": [
    {
     "name": "stdout",
     "output_type": "stream",
     "text": [
      "True\n",
      "Validation MAE for Random Forest Model: 0.266010\n"
     ]
    }
   ],
   "source": [
    "# Build a model to predict IMDB score\n",
    "# I'll use the Best Movie Netflix data set rather than By Year based on it having many more data values.\n",
    "y = bm_net_data.SCORE\n",
    "# First I'll fit a full model with all features.\n",
    "# TITLE will be excluded because it is almost always unique. \n",
    "# Perhaps in later feature engineering I could search for common words within the title.\n",
    "\n",
    "# Defining the features\n",
    "full_features = ['RELEASE_YEAR', 'NUMBER_OF_VOTES', 'DURATION', 'MAIN_GENRE', 'MAIN_PRODUCTION']\n",
    "X_cat = bm_net_data[full_features]\n",
    "# One-hot coding categorical variables\n",
    "X = pd.get_dummies(X_cat)\n",
    "\n",
    "# Split the data into training and validation sets\n",
    "train_X, val_X, train_y, val_y = train_test_split(X, y, random_state = 1)\n",
    "train_X.head()\n",
    "\n",
    "#Fit the model\n",
    "# Define a random forest model\n",
    "rf_model = RandomForestRegressor(random_state=1)\n",
    "rf_model.fit(train_X, train_y)\n",
    "rf_val_predictions = rf_model.predict(val_X)\n",
    "\n",
    "#Evaluate the success of the model using MAE\n",
    "rf_val_mae = mean_absolute_error(rf_val_predictions, val_y)\n",
    "print(len(rf_val_predictions)==len(val_y))\n",
    "print(\"Validation MAE for Random Forest Model: {:,.6f}\".format(rf_val_mae))\n",
    "# Select the features\n",
    "#full_features = ['TITLE', 'RELEASE_YEAR', 'SCORE', 'NUMBER_OF_VOTES', 'DURATION', 'MAIN_GENRE', 'MAIN_PRODUCTION']\n",
    "#X = bm_net_data_[full_features]\n",
    "\n"
   ]
  },
  {
   "cell_type": "markdown",
   "id": "ddb0ad50",
   "metadata": {
    "papermill": {
     "duration": 0.01378,
     "end_time": "2023-01-04T03:41:45.676726",
     "exception": false,
     "start_time": "2023-01-04T03:41:45.662946",
     "status": "completed"
    },
    "tags": []
   },
   "source": [
    "Let's run cross-validation on the full model"
   ]
  },
  {
   "cell_type": "code",
   "execution_count": 16,
   "id": "a329dd4f",
   "metadata": {
    "execution": {
     "iopub.execute_input": "2023-01-04T03:41:45.707638Z",
     "iopub.status.busy": "2023-01-04T03:41:45.706486Z",
     "iopub.status.idle": "2023-01-04T03:41:46.420611Z",
     "shell.execute_reply": "2023-01-04T03:41:46.418840Z"
    },
    "papermill": {
     "duration": 0.73267,
     "end_time": "2023-01-04T03:41:46.423654",
     "exception": false,
     "start_time": "2023-01-04T03:41:45.690984",
     "status": "completed"
    },
    "tags": []
   },
   "outputs": [
    {
     "name": "stdout",
     "output_type": "stream",
     "text": [
      "MAE scores:\n",
      " [0.73635897 0.36766667 0.20498701 0.25275325 0.53075325]\n",
      "0.4185038295038298\n"
     ]
    }
   ],
   "source": [
    "my_pipeline = Pipeline(steps=[\n",
    "                              ('model', RandomForestRegressor(n_estimators=50,\n",
    "                                                              random_state=0))\n",
    "                             ])\n",
    "# Multiply by -1 since sklearn calculates *negative* MAE\n",
    "scores =  -1*cross_val_score(my_pipeline, X, y,\n",
    "                              cv=5,\n",
    "                              scoring='neg_mean_absolute_error')\n",
    "\n",
    "print(\"MAE scores:\\n\", scores)\n",
    "print(scores.mean())"
   ]
  },
  {
   "cell_type": "code",
   "execution_count": 17,
   "id": "cf4306a9",
   "metadata": {
    "execution": {
     "iopub.execute_input": "2023-01-04T03:41:46.454631Z",
     "iopub.status.busy": "2023-01-04T03:41:46.452997Z",
     "iopub.status.idle": "2023-01-04T03:41:46.651387Z",
     "shell.execute_reply": "2023-01-04T03:41:46.649528Z"
    },
    "papermill": {
     "duration": 0.217021,
     "end_time": "2023-01-04T03:41:46.654643",
     "exception": false,
     "start_time": "2023-01-04T03:41:46.437622",
     "status": "completed"
    },
    "tags": []
   },
   "outputs": [
    {
     "name": "stdout",
     "output_type": "stream",
     "text": [
      "True\n",
      "Validation MAE for Random Forest Model: 0.3015\n"
     ]
    }
   ],
   "source": [
    "#Now I'll fit a simpler model just using the numerical variables\n",
    "num_features = ['RELEASE_YEAR', 'NUMBER_OF_VOTES', 'DURATION']\n",
    "X = bm_net_data[num_features]\n",
    "\n",
    "\n",
    "# Split the data into training and validation sets\n",
    "train_X, val_X, train_y, val_y = train_test_split(X, y, random_state = 1)\n",
    "train_X.head()\n",
    "\n",
    "#Fit the model\n",
    "# Define a random forest model\n",
    "rf_model = RandomForestRegressor(random_state=1)\n",
    "rf_model.fit(train_X, train_y)\n",
    "rf_val_predictions = rf_model.predict(val_X)\n",
    "\n",
    "#Evaluate the success of the model using MAE\n",
    "rf_val_mae = mean_absolute_error(rf_val_predictions, val_y)\n",
    "print(len(rf_val_predictions)==len(val_y))\n",
    "print(\"Validation MAE for Random Forest Model: {:,.4f}\".format(rf_val_mae))"
   ]
  },
  {
   "cell_type": "code",
   "execution_count": 18,
   "id": "194d9952",
   "metadata": {
    "execution": {
     "iopub.execute_input": "2023-01-04T03:41:46.687692Z",
     "iopub.status.busy": "2023-01-04T03:41:46.686209Z",
     "iopub.status.idle": "2023-01-04T03:41:46.891613Z",
     "shell.execute_reply": "2023-01-04T03:41:46.890398Z"
    },
    "papermill": {
     "duration": 0.225548,
     "end_time": "2023-01-04T03:41:46.894962",
     "exception": false,
     "start_time": "2023-01-04T03:41:46.669414",
     "status": "completed"
    },
    "tags": []
   },
   "outputs": [
    {
     "name": "stdout",
     "output_type": "stream",
     "text": [
      "True\n",
      "Validation MAE for Random Forest Model: 0.3582\n"
     ]
    }
   ],
   "source": [
    "#Fitting a categorical only model\n",
    "# Defining the features\n",
    "cat_features = [ 'MAIN_GENRE', 'MAIN_PRODUCTION']\n",
    "X_cat = bm_net_data[cat_features]\n",
    "# One-hot coding categorical variables\n",
    "X = pd.get_dummies(X_cat)\n",
    "\n",
    "# Split the data into training and validation sets\n",
    "train_X, val_X, train_y, val_y = train_test_split(X, y, random_state = 1)\n",
    "train_X.head()\n",
    "\n",
    "#Fit the model\n",
    "# Define a random forest model\n",
    "rf_model = RandomForestRegressor(random_state=1)\n",
    "rf_model.fit(train_X, train_y)\n",
    "rf_val_predictions = rf_model.predict(val_X)\n",
    "\n",
    "#Evaluate the success of the model using MAE\n",
    "rf_val_mae = mean_absolute_error(rf_val_predictions, val_y)\n",
    "print(len(rf_val_predictions)==len(val_y))\n",
    "print(\"Validation MAE for Random Forest Model: {:,.4f}\".format(rf_val_mae))"
   ]
  },
  {
   "cell_type": "code",
   "execution_count": 19,
   "id": "01519c6b",
   "metadata": {
    "execution": {
     "iopub.execute_input": "2023-01-04T03:41:46.927033Z",
     "iopub.status.busy": "2023-01-04T03:41:46.926568Z",
     "iopub.status.idle": "2023-01-04T03:41:47.185991Z",
     "shell.execute_reply": "2023-01-04T03:41:47.184081Z"
    },
    "papermill": {
     "duration": 0.280132,
     "end_time": "2023-01-04T03:41:47.190083",
     "exception": false,
     "start_time": "2023-01-04T03:41:46.909951",
     "status": "completed"
    },
    "tags": []
   },
   "outputs": [
    {
     "name": "stdout",
     "output_type": "stream",
     "text": [
      "True\n",
      "Validation MAE for Random Forest Model: 0.275361\n"
     ]
    }
   ],
   "source": [
    "#Fitting less than full but using intuition\n",
    "intu_features = [ 'NUMBER_OF_VOTES', 'DURATION', 'MAIN_GENRE', 'MAIN_PRODUCTION']\n",
    "X_intu = bm_net_data[intu_features]\n",
    "# One-hot coding categorical variables\n",
    "X = pd.get_dummies(X_intu)\n",
    "\n",
    "# Split the data into training and validation sets\n",
    "train_X, val_X, train_y, val_y = train_test_split(X, y, random_state = 1)\n",
    "train_X.head()\n",
    "\n",
    "#Fit the model\n",
    "# Define a random forest model\n",
    "rf_model = RandomForestRegressor(random_state=1)\n",
    "rf_model.fit(train_X, train_y)\n",
    "rf_val_predictions = rf_model.predict(val_X)\n",
    "\n",
    "#Evaluate the success of the model using MAE\n",
    "rf_val_mae = mean_absolute_error(rf_val_predictions, val_y)\n",
    "print(len(rf_val_predictions)==len(val_y))\n",
    "print(\"Validation MAE for Random Forest Model: {:,.6f}\".format(rf_val_mae))"
   ]
  },
  {
   "cell_type": "markdown",
   "id": "a829a801",
   "metadata": {
    "papermill": {
     "duration": 0.013328,
     "end_time": "2023-01-04T03:41:47.218180",
     "exception": false,
     "start_time": "2023-01-04T03:41:47.204852",
     "status": "completed"
    },
    "tags": []
   },
   "source": [
    "Interesting YEAR seems to have the smallest impact on MAE. I suspect some overfitting due to this being a smallish data set. Let's run cross validation on the model excluding year to see how it holds up with different training data."
   ]
  },
  {
   "cell_type": "code",
   "execution_count": 20,
   "id": "ce58d828",
   "metadata": {
    "execution": {
     "iopub.execute_input": "2023-01-04T03:41:47.248456Z",
     "iopub.status.busy": "2023-01-04T03:41:47.247983Z",
     "iopub.status.idle": "2023-01-04T03:41:47.897182Z",
     "shell.execute_reply": "2023-01-04T03:41:47.895466Z"
    },
    "papermill": {
     "duration": 0.668629,
     "end_time": "2023-01-04T03:41:47.900454",
     "exception": false,
     "start_time": "2023-01-04T03:41:47.231825",
     "status": "completed"
    },
    "tags": []
   },
   "outputs": [
    {
     "name": "stdout",
     "output_type": "stream",
     "text": [
      "MAE scores:\n",
      " [0.72417949 0.35794872 0.19394805 0.26080519 0.54379221]\n",
      "0.4161347319347322\n"
     ]
    }
   ],
   "source": [
    "my_pipeline = Pipeline(steps=[\n",
    "                              ('model', RandomForestRegressor(n_estimators=50,\n",
    "                                                              random_state=0))\n",
    "                             ])\n",
    "# Multiply by -1 since sklearn calculates *negative* MAE\n",
    "scores =  -1*cross_val_score(my_pipeline, X, y,\n",
    "                              cv=5,\n",
    "                              scoring='neg_mean_absolute_error')\n",
    "\n",
    "print(\"MAE scores:\\n\", scores)\n",
    "print(scores.mean())"
   ]
  },
  {
   "cell_type": "markdown",
   "id": "63f2e80d",
   "metadata": {
    "papermill": {
     "duration": 0.013378,
     "end_time": "2023-01-04T03:41:47.927582",
     "exception": false,
     "start_time": "2023-01-04T03:41:47.914204",
     "status": "completed"
    },
    "tags": []
   },
   "source": [
    "Being a statistician at heart I would rather not use intuition when I can apply theory. Here I will use RFEC to aid in feature selection."
   ]
  },
  {
   "cell_type": "code",
   "execution_count": 21,
   "id": "88d75ebe",
   "metadata": {
    "execution": {
     "iopub.execute_input": "2023-01-04T03:41:47.957788Z",
     "iopub.status.busy": "2023-01-04T03:41:47.957317Z",
     "iopub.status.idle": "2023-01-04T03:41:48.424792Z",
     "shell.execute_reply": "2023-01-04T03:41:48.423412Z"
    },
    "papermill": {
     "duration": 0.4861,
     "end_time": "2023-01-04T03:41:48.427617",
     "exception": false,
     "start_time": "2023-01-04T03:41:47.941517",
     "status": "completed"
    },
    "tags": []
   },
   "outputs": [
    {
     "data": {
      "image/png": "[encoded data removed]",
      "text/plain": [
       "<Figure size 432x288 with 1 Axes>"
      ]
     },
     "metadata": {
      "needs_background": "light"
     },
     "output_type": "display_data"
    }
   ],
   "source": [
    "\n",
    "\n",
    "# Reset my X to be the full list of possible features\n",
    "full_features = ['RELEASE_YEAR', 'NUMBER_OF_VOTES', 'DURATION', 'MAIN_GENRE', 'MAIN_PRODUCTION']\n",
    "X_cat = bm_net_data[full_features]\n",
    "# One-hot coding categorical variables\n",
    "X = pd.get_dummies(X_cat)\n",
    "\n",
    "# Split the data into training and validation sets\n",
    "train_X, val_X, train_y, val_y = train_test_split(X, y, random_state = 1)\n",
    "train_X.head()\n",
    "\n",
    "# Fit the model\n",
    "rf_model = RandomForestRegressor(random_state=1)\n",
    "rf_model.fit(train_X, train_y)\n",
    "# Plot feature importance\n",
    "f_i = list(zip(full_features,rf_model.feature_importances_))\n",
    "f_i.sort(key = lambda x : x[1])\n",
    "plt.barh([x[0] for x in f_i],[x[1] for x in f_i])\n",
    "plt.title(\"Feature importance based on Random Forest Model and MAE scores\")\n",
    "plt.show()"
   ]
  },
  {
   "cell_type": "markdown",
   "id": "3ad8ecf5",
   "metadata": {
    "papermill": {
     "duration": 0.014264,
     "end_time": "2023-01-04T03:41:48.457072",
     "exception": false,
     "start_time": "2023-01-04T03:41:48.442808",
     "status": "completed"
    },
    "tags": []
   },
   "source": [
    "This suggests that the categorical variables MAIN_GENRE and MAIN_PRODUCTION are of least importance, so I'll revisit the numerical only random forest model and run cross validation on it."
   ]
  },
  {
   "cell_type": "code",
   "execution_count": 22,
   "id": "12bd8d26",
   "metadata": {
    "execution": {
     "iopub.execute_input": "2023-01-04T03:41:48.489143Z",
     "iopub.status.busy": "2023-01-04T03:41:48.488336Z",
     "iopub.status.idle": "2023-01-04T03:41:49.163158Z",
     "shell.execute_reply": "2023-01-04T03:41:49.162197Z"
    },
    "papermill": {
     "duration": 0.694652,
     "end_time": "2023-01-04T03:41:49.166153",
     "exception": false,
     "start_time": "2023-01-04T03:41:48.471501",
     "status": "completed"
    },
    "tags": []
   },
   "outputs": [
    {
     "name": "stdout",
     "output_type": "stream",
     "text": [
      "MAE scores:\n",
      " [0.77015385 0.37279487 0.18787013 0.29036364 0.56415584]\n",
      "0.43706766566766564\n"
     ]
    }
   ],
   "source": [
    "#Now I'll fit a simpler model just using the numerical variables\n",
    "num_features = ['RELEASE_YEAR', 'NUMBER_OF_VOTES', 'DURATION']\n",
    "X = bm_net_data[num_features]\n",
    "\n",
    "\n",
    "# Split the data into training and validation sets\n",
    "train_X, val_X, train_y, val_y = train_test_split(X, y, random_state = 1)\n",
    "train_X.head()\n",
    "\n",
    "#Fit the model\n",
    "# Define a random forest model\n",
    "rf_model = RandomForestRegressor(random_state=1)\n",
    "rf_model.fit(train_X, train_y)\n",
    "rf_val_predictions = rf_model.predict(val_X)\n",
    "# Cross validation\n",
    "scores =  -1*cross_val_score(my_pipeline, X, y,\n",
    "                              cv=5,\n",
    "                              scoring='neg_mean_absolute_error')\n",
    "\n",
    "print(\"MAE scores:\\n\", scores)\n",
    "print(scores.mean())"
   ]
  },
  {
   "cell_type": "markdown",
   "id": "7b10882a",
   "metadata": {
    "papermill": {
     "duration": 0.015162,
     "end_time": "2023-01-04T03:41:49.196160",
     "exception": false,
     "start_time": "2023-01-04T03:41:49.180998",
     "status": "completed"
    },
    "tags": []
   },
   "source": [
    "It's curious that the model suggest by the feature importance method under performs the model that only excludes year. I suspect it has to do with the handeling of categorical variables. With one-hot encoding each categorical variable is represented by many dummy variables, which adds complexity to the model at a coding level but is still rather simple at human understanding level. \n",
    "\n",
    "We do see that of the numerical variables RELEASE_YEAR was the least important, so this supports my intuition. \n",
    "\n",
    "At the end of the day I recommend using the model that only excludes RELEASE_YEAR"
   ]
  },
  {
   "cell_type": "markdown",
   "id": "253c48c7",
   "metadata": {
    "papermill": {
     "duration": 0.014723,
     "end_time": "2023-01-04T03:41:49.225971",
     "exception": false,
     "start_time": "2023-01-04T03:41:49.211248",
     "status": "completed"
    },
    "tags": []
   },
   "source": [
    "Future work: Do IMDB scores relate to bigger profits for studios. For that I would need profits for many of these shows and movies. Ideally IMDB scores and profits for movies beyond the top watched for Netflix 2022"
   ]
  }
 ],
 "metadata": {
  "kernelspec": {
   "display_name": "Python 3",
   "language": "python",
   "name": "python3"
  },
  "language_info": {
   "codemirror_mode": {
    "name": "ipython",
    "version": 3
   },
   "file_extension": ".py",
   "mimetype": "text/x-python",
   "name": "python",
   "nbconvert_exporter": "python",
   "pygments_lexer": "ipython3",
   "version": "3.7.12"
  },
  "papermill": {
   "default_parameters": {},
   "duration": 24.455784,
   "end_time": "2023-01-04T03:41:50.268001",
   "environment_variables": {},
   "exception": null,
   "input_path": "__notebook__.ipynb",
   "output_path": "__notebook__.ipynb",
   "parameters": {},
   "start_time": "2023-01-04T03:41:25.812217",
   "version": "2.3.4"
  }
 },
 "nbformat": 4,
 "nbformat_minor": 5
}
